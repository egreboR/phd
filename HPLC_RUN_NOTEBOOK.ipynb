{
 "cells": [
  {
   "attachments": {},
   "cell_type": "markdown",
   "metadata": {},
   "source": [
    "# %% LE PLAN\n",
    "\n",
    "'''\n",
    "    1. create rations for each brain region: DOP/DAP, HIA/5HT, 3MT/DAP\n",
    "    2. calculate and save to table average, SD and SEM\n",
    "    3. ShapiroWilk test for normailty (note if not noirmal) and statistical analysis\n",
    "    4. plot histograms with SEM and ** for each treatment, compound and BR\n",
    "    5. test normaility for correlation if normal : \n",
    "                                                    --> pearson product coirrelation plots \n",
    "                            non-parametric data :\n",
    "                                                    --> spearman coirrelation plots      \n",
    "                                                    \n",
    "            produced for each BR comparing compunds and compound comparing BR\n",
    "    6. PCA for  complete compound_BR/ ratio_BR sets between groups \n",
    "\n",
    "\n",
    "'''"
   ]
  },
  {
   "attachments": {},
   "cell_type": "markdown",
   "metadata": {},
   "source": [
    "Imports and Constants:"
   ]
  },
  {
   "cell_type": "code",
   "execution_count": 2,
   "metadata": {},
   "outputs": [
    {
     "name": "stdout",
     "output_type": "stream",
     "text": [
      "{1: 'vehicles', 2: '10mg/kgTCB', 3: '3mg/kgTCB', 4: '0.3mg/kgTCB', 5: 'TCB+MDL', 6: '0.2mg/kgMDL'} /home/remi/jasmine/input/cache/TCB2_data_APRIL23/treatment_mapping.json\n",
      "TREATMENT DICT SAVED TOO /home/remi/jasmine/input/cache/TCB2_data_APRIL23/treatment_mapping.json\n",
      "TREATMENT MAPPING {1: 'vehicles', 2: '10mg/kgTCB', 3: '3mg/kgTCB', 4: '0.3mg/kgTCB', 5: 'TCB+MDL', 6: '0.2mg/kgMDL'} SAVED TO /home/remi/jasmine/input/cache/TCB2_data_APRIL23 SUBCACHE\n",
      "GETTING \"ratios_df\" FROM \"TCB2_data_APRIL23\" CACHE\n"
     ]
    },
    {
     "data": {
      "text/html": [
       "<div>\n",
       "<style scoped>\n",
       "    .dataframe tbody tr th:only-of-type {\n",
       "        vertical-align: middle;\n",
       "    }\n",
       "\n",
       "    .dataframe tbody tr th {\n",
       "        vertical-align: top;\n",
       "    }\n",
       "\n",
       "    .dataframe thead th {\n",
       "        text-align: right;\n",
       "    }\n",
       "</style>\n",
       "<table border=\"1\" class=\"dataframe\">\n",
       "  <thead>\n",
       "    <tr style=\"text-align: right;\">\n",
       "      <th></th>\n",
       "      <th>mouse_id</th>\n",
       "      <th>treatment</th>\n",
       "      <th>BR_1</th>\n",
       "      <th>compound_1</th>\n",
       "      <th>BR_2</th>\n",
       "      <th>compound_2</th>\n",
       "      <th>compounds</th>\n",
       "      <th>ratio</th>\n",
       "    </tr>\n",
       "  </thead>\n",
       "  <tbody>\n",
       "  </tbody>\n",
       "</table>\n",
       "</div>"
      ],
      "text/plain": [
       "Empty DataFrame\n",
       "Columns: [mouse_id, treatment, BR_1, compound_1, BR_2, compound_2, compounds, ratio]\n",
       "Index: []"
      ]
     },
     "execution_count": 2,
     "metadata": {},
     "output_type": "execute_result"
    }
   ],
   "source": [
    "\n",
    "from HPLC_MODULE_NOTEBOOK import * #Must be reimported when changes made to module file\n",
    "\n",
    "filename = 'TCB2_data_APRIL23.csv'  # TCB2 #using current working directory plus file name \n",
    "compound_ratio_mapping = {'DOPAC': ['DA'],     # TCB2\n",
    "                       '5HIAA': ['5HT'],\n",
    "                       '3MT': ['DA'],\n",
    "                       'HVA': ['DA', '3MT', 'DOPAC'],\n",
    "                       'GLN': ['GLU']}\n",
    "\n",
    "treatment_mapping = {1: 'vehicles', 2: '10mg/kgTCB', 3: '3mg/kgTCB',\n",
    "                  4: '0.3mg/kgTCB', 5: 'TCB+MDL', 6: '0.2mg/kgMDL'} \n",
    "\n",
    "palette_labeled = {'vehicles': \"white\",  # TCB2\n",
    "                   '10mg/kgTCB': \"firebrick\",\n",
    "                   '3mg/kgTCB': \"red\",\n",
    "                   '0.3mg/kgTCB': \"salmon\",\n",
    "                   'TCB+MDL': \"grey\",\n",
    "                   '0.2mg/kgMDL': \"black\"}\n",
    "\n",
    "setTreatment(filename, treatment_mapping)\n",
    "ratios_df = getRatiosDf(filename, treatment_mapping)\n",
    "getRatiosPerRegion(ratios_df, compound_ratio_mapping) #ratios of interest\n",
    "\n",
    "doGrubsTest(getRawDF()) #Usage is something like this\n"
   ]
  },
  {
   "cell_type": "code",
   "execution_count": 5,
   "metadata": {},
   "outputs": [
    {
     "name": "stdout",
     "output_type": "stream",
     "text": [
      "GETTING \"ratios_df\" FROM \"TCB2_data_APRIL23\" CACHE\n"
     ]
    },
    {
     "data": {
      "text/html": [
       "<div>\n",
       "<style scoped>\n",
       "    .dataframe tbody tr th:only-of-type {\n",
       "        vertical-align: middle;\n",
       "    }\n",
       "\n",
       "    .dataframe tbody tr th {\n",
       "        vertical-align: top;\n",
       "    }\n",
       "\n",
       "    .dataframe thead th {\n",
       "        text-align: right;\n",
       "    }\n",
       "</style>\n",
       "<table border=\"1\" class=\"dataframe\">\n",
       "  <thead>\n",
       "    <tr style=\"text-align: right;\">\n",
       "      <th></th>\n",
       "      <th>mouse_id</th>\n",
       "      <th>treatment</th>\n",
       "      <th>BR_1</th>\n",
       "      <th>compound_1</th>\n",
       "      <th>BR_2</th>\n",
       "      <th>compound_2</th>\n",
       "      <th>compounds</th>\n",
       "      <th>ratio</th>\n",
       "    </tr>\n",
       "  </thead>\n",
       "  <tbody>\n",
       "    <tr>\n",
       "      <th>9</th>\n",
       "      <td>2</td>\n",
       "      <td>vehicles</td>\n",
       "      <td>OF</td>\n",
       "      <td>LDOPA</td>\n",
       "      <td>PL</td>\n",
       "      <td>NA</td>\n",
       "      <td>LDOPA/NA</td>\n",
       "      <td>2.078961</td>\n",
       "    </tr>\n",
       "    <tr>\n",
       "      <th>10</th>\n",
       "      <td>2</td>\n",
       "      <td>vehicles</td>\n",
       "      <td>OF</td>\n",
       "      <td>LDOPA</td>\n",
       "      <td>PL</td>\n",
       "      <td>DOPAC</td>\n",
       "      <td>LDOPA/DOPAC</td>\n",
       "      <td>2.529611</td>\n",
       "    </tr>\n",
       "    <tr>\n",
       "      <th>11</th>\n",
       "      <td>2</td>\n",
       "      <td>vehicles</td>\n",
       "      <td>OF</td>\n",
       "      <td>LDOPA</td>\n",
       "      <td>PL</td>\n",
       "      <td>5HTP</td>\n",
       "      <td>LDOPA/5HTP</td>\n",
       "      <td>22.791824</td>\n",
       "    </tr>\n",
       "    <tr>\n",
       "      <th>12</th>\n",
       "      <td>2</td>\n",
       "      <td>vehicles</td>\n",
       "      <td>OF</td>\n",
       "      <td>LDOPA</td>\n",
       "      <td>PL</td>\n",
       "      <td>DA</td>\n",
       "      <td>LDOPA/DA</td>\n",
       "      <td>8.116207</td>\n",
       "    </tr>\n",
       "    <tr>\n",
       "      <th>13</th>\n",
       "      <td>2</td>\n",
       "      <td>vehicles</td>\n",
       "      <td>OF</td>\n",
       "      <td>LDOPA</td>\n",
       "      <td>PL</td>\n",
       "      <td>5HIAA</td>\n",
       "      <td>LDOPA/5HIAA</td>\n",
       "      <td>1.002787</td>\n",
       "    </tr>\n",
       "    <tr>\n",
       "      <th>...</th>\n",
       "      <td>...</td>\n",
       "      <td>...</td>\n",
       "      <td>...</td>\n",
       "      <td>...</td>\n",
       "      <td>...</td>\n",
       "      <td>...</td>\n",
       "      <td>...</td>\n",
       "      <td>...</td>\n",
       "    </tr>\n",
       "    <tr>\n",
       "      <th>3995486</th>\n",
       "      <td>70</td>\n",
       "      <td>10mg/kgTCB</td>\n",
       "      <td>CE</td>\n",
       "      <td>5HT</td>\n",
       "      <td>MR</td>\n",
       "      <td>5HTP</td>\n",
       "      <td>5HT/5HTP</td>\n",
       "      <td>3.814665</td>\n",
       "    </tr>\n",
       "    <tr>\n",
       "      <th>3995487</th>\n",
       "      <td>70</td>\n",
       "      <td>10mg/kgTCB</td>\n",
       "      <td>CE</td>\n",
       "      <td>5HT</td>\n",
       "      <td>MR</td>\n",
       "      <td>DOPAC</td>\n",
       "      <td>5HT/DOPAC</td>\n",
       "      <td>6.449441</td>\n",
       "    </tr>\n",
       "    <tr>\n",
       "      <th>3995488</th>\n",
       "      <td>70</td>\n",
       "      <td>10mg/kgTCB</td>\n",
       "      <td>CE</td>\n",
       "      <td>5HT</td>\n",
       "      <td>MR</td>\n",
       "      <td>DA</td>\n",
       "      <td>5HT/DA</td>\n",
       "      <td>17.743371</td>\n",
       "    </tr>\n",
       "    <tr>\n",
       "      <th>3995489</th>\n",
       "      <td>70</td>\n",
       "      <td>10mg/kgTCB</td>\n",
       "      <td>CE</td>\n",
       "      <td>5HT</td>\n",
       "      <td>MR</td>\n",
       "      <td>5HIAA</td>\n",
       "      <td>5HT/5HIAA</td>\n",
       "      <td>0.691156</td>\n",
       "    </tr>\n",
       "    <tr>\n",
       "      <th>3995490</th>\n",
       "      <td>70</td>\n",
       "      <td>10mg/kgTCB</td>\n",
       "      <td>CE</td>\n",
       "      <td>5HT</td>\n",
       "      <td>MR</td>\n",
       "      <td>HVA</td>\n",
       "      <td>5HT/HVA</td>\n",
       "      <td>2.795106</td>\n",
       "    </tr>\n",
       "  </tbody>\n",
       "</table>\n",
       "<p>3437550 rows × 8 columns</p>\n",
       "</div>"
      ],
      "text/plain": [
       "         mouse_id   treatment BR_1 compound_1 BR_2 compound_2    compounds   \n",
       "9               2    vehicles   OF      LDOPA   PL         NA     LDOPA/NA  \\\n",
       "10              2    vehicles   OF      LDOPA   PL      DOPAC  LDOPA/DOPAC   \n",
       "11              2    vehicles   OF      LDOPA   PL       5HTP   LDOPA/5HTP   \n",
       "12              2    vehicles   OF      LDOPA   PL         DA     LDOPA/DA   \n",
       "13              2    vehicles   OF      LDOPA   PL      5HIAA  LDOPA/5HIAA   \n",
       "...           ...         ...  ...        ...  ...        ...          ...   \n",
       "3995486        70  10mg/kgTCB   CE        5HT   MR       5HTP     5HT/5HTP   \n",
       "3995487        70  10mg/kgTCB   CE        5HT   MR      DOPAC    5HT/DOPAC   \n",
       "3995488        70  10mg/kgTCB   CE        5HT   MR         DA       5HT/DA   \n",
       "3995489        70  10mg/kgTCB   CE        5HT   MR      5HIAA    5HT/5HIAA   \n",
       "3995490        70  10mg/kgTCB   CE        5HT   MR        HVA      5HT/HVA   \n",
       "\n",
       "             ratio  \n",
       "9         2.078961  \n",
       "10        2.529611  \n",
       "11       22.791824  \n",
       "12        8.116207  \n",
       "13        1.002787  \n",
       "...            ...  \n",
       "3995486   3.814665  \n",
       "3995487   6.449441  \n",
       "3995488  17.743371  \n",
       "3995489   0.691156  \n",
       "3995490   2.795106  \n",
       "\n",
       "[3437550 rows x 8 columns]"
      ]
     },
     "execution_count": 5,
     "metadata": {},
     "output_type": "execute_result"
    }
   ],
   "source": [
    "getRatiosDf(filename)\n",
    "getRatiosPerRegion(ratios_df, ratios_mapping)\n",
    "getRatiosPerRegion(filename)\n"
   ]
  },
  {
   "cell_type": "markdown",
   "metadata": {},
   "source": []
  },
  {
   "attachments": {},
   "cell_type": "markdown",
   "metadata": {},
   "source": [
    "Load and Restructure df:"
   ]
  },
  {
   "cell_type": "code",
   "execution_count": null,
   "metadata": {},
   "outputs": [],
   "source": [
    "df_raw = pd.read_csv(path, header=0)\n",
    "df = df_raw.copy() #cworking df \n",
    "df = df.replace(np.nan, 0) # to set all 0 to Nan\n",
    "\n",
    "raw_col_names = df_raw.columns.copy()\n",
    "result_rows = []\n",
    "\n",
    "for ind, row in df_raw.iterrows(): #loop for row get mouse and group\n",
    "    \n",
    "    mouse_id = row[0]\n",
    "    treatment = row[1]\n",
    "\n",
    "    for val, col_name in zip(row[2:], raw_col_names[2:]): #loop within row\n",
    "\n",
    "        if val > 0:\n",
    "            compound, BR = col_name.split('_')\n",
    "            result_rows.append([mouse_id, treatment, BR, compound, val])\n",
    "\n",
    "restructured_df = pd.DataFrame(result_rows, columns=col_names)\n",
    "restructured_df"
   ]
  },
  {
   "cell_type": "code",
   "execution_count": null,
   "metadata": {},
   "outputs": [],
   "source": [
    "df"
   ]
  },
  {
   "cell_type": "code",
   "execution_count": null,
   "metadata": {},
   "outputs": [],
   "source": [
    "result_df = pd.DataFrame({'mouse_id':[], 'treatment':[], 'BR':[], 'compound':[]})\n",
    "\n",
    "for raw_name in raw_col_names:\n",
    "    compound, BR = col_name.split('_')"
   ]
  },
  {
   "cell_type": "code",
   "execution_count": null,
   "metadata": {},
   "outputs": [],
   "source": [
    "restructured_df.dtypes"
   ]
  },
  {
   "cell_type": "code",
   "execution_count": null,
   "metadata": {},
   "outputs": [],
   "source": [
    "# Inputs: \n",
    "compound_ratio_dict = {'DOPAC': ['DA'],     # TCB2\n",
    "                       '5HIAA': ['5HT'],\n",
    "                       '3MT': ['DA'],\n",
    "                       'HVA': ['DA', '3MT', 'DOPAC'],\n",
    "                       'GLN': ['GLU']}\n",
    "\n",
    "treatment_dict = {1: 'vehicles', 2: '10mg/kgTCB', 3: '3mg/kgTCB',\n",
    "                  4: '0.3mg/kgTCB', 5: 'TCB+MDL', 6: '0.2mg/kgMDL'} \n",
    "\n",
    "palette_labeled = {'vehicles': \"white\",  # TCB2\n",
    "                   '10mg/kgTCB': \"firebrick\",\n",
    "                   '3mg/kgTCB': \"red\",\n",
    "                   '0.3mg/kgTCB': \"salmon\",\n",
    "                   'TCB+MDL': \"grey\",\n",
    "                   '0.2mg/kgMDL': \"black\"}\n",
    "\n",
    "#intergrate \n",
    "restructured_df = applyMappingToColumn(restructured_df, 'treatment', treatment_dict )\n",
    "restructured_df.to_pickle('input/restructured_df')\n",
    "restructured_df\n",
    "\n"
   ]
  },
  {
   "cell_type": "code",
   "execution_count": null,
   "metadata": {},
   "outputs": [],
   "source": [
    "print(restructured_df.BR.unique(), len(restructured_df.BR.unique()))\n",
    "print(restructured_df.compound.unique(), len(restructured_df.compound.unique()))\n",
    "print(restructured_df.mouse_id.unique(), len(restructured_df.mouse_id.unique()))"
   ]
  },
  {
   "cell_type": "code",
   "execution_count": null,
   "metadata": {},
   "outputs": [],
   "source": [
    "getRatios(restructured_df)"
   ]
  },
  {
   "cell_type": "code",
   "execution_count": null,
   "metadata": {},
   "outputs": [],
   "source": [
    "cleaned = pd.merge(left=restructured_df, right=restructured_df, on='mouse_id', suffixes=['_1', '_2']) #merge every BR/compound combo to every other for each mouse\n",
    "cleaned['ratio'] = cleaned.apply(lambda x: x.ng_mg_1 / x.ng_mg_2, axis=1) #calculate the ratio\n",
    "cleaned"
   ]
  },
  {
   "cell_type": "code",
   "execution_count": null,
   "metadata": {},
   "outputs": [],
   "source": [
    "#exclusion of outliers Grubbs test \n",
    "#create ratios first as if there is a systematic error for a BR (run together) the ratio may still be good and there deserved to have a grubbs test for its own \n",
    "#treatment, compound, BR"
   ]
  },
  {
   "attachments": {},
   "cell_type": "markdown",
   "metadata": {},
   "source": [
    "#generate mean, sd and sem table for each 'data set' i.e. treatment, BR, compound"
   ]
  },
  {
   "cell_type": "code",
   "execution_count": null,
   "metadata": {},
   "outputs": [],
   "source": [
    "#statistical testing\n",
    "#remi: here i need to build in flexable stats structure\n",
    "\n",
    "#dose responce data (single factor) --> one way ANOVA --> post hoc Tukey \n",
    "#agonist antagonist data (multifactor pathway) --> two way ANOVA --> one way ANOVA --> post hoc Tukey\n",
    "\n",
    "\n",
    "\n",
    "#histograms with stats plotted (idealy chosing the level of stats i.e. significance in two way ANOVA or only if it passes all?)"
   ]
  },
  {
   "cell_type": "code",
   "execution_count": null,
   "metadata": {},
   "outputs": [],
   "source": [
    "df = pd.DataFrame({'mouse_id': ['1', '1', '1', '1', '1', '1', '1', '1', '1'],\n",
    "                   'BR': ['A', 'A', 'B', 'B', 'C', 'C', 'A', 'B', 'C'],\n",
    "                   'compound': ['X', 'Y', 'X', 'Y', 'X', 'Y', 'Z', 'Z', 'Z'],\n",
    "                   'value': [10, 20, 30, 40, 50, 60, 70, 80, 90]})\n",
    "df"
   ]
  },
  {
   "cell_type": "code",
   "execution_count": null,
   "metadata": {},
   "outputs": [],
   "source": [
    "\n",
    "merged = pd.merge(left=df, right=df, on='mouse_id', suffixes=['_1', '_2'])\n",
    "merged\n",
    "# merged[(merged.BR_1 < merged.BR_2) | (merged.compound_1 < merged.compound_2)]\n",
    "# unique = merged.drop(merged[(merged.BR_1 == merged.BR_2) & (merged.compound_1 == merged.compound_2)].index)\n",
    "# pd.merge(left=merged, right=merged, left_on=['mouse_id', 'BR_1', 'compound_1', 'BR_2', 'compound_2'], right_on=['mouse_id', 'BR_2', 'compound_2', 'BR_1', 'compound_1'], how='inner')\n",
    "\n",
    "# unique"
   ]
  },
  {
   "cell_type": "code",
   "execution_count": null,
   "metadata": {},
   "outputs": [],
   "source": [
    "os.path.isfile(f'{CACHE_DIR}/ratios_df.pkl')"
   ]
  },
  {
   "cell_type": "code",
   "execution_count": null,
   "metadata": {},
   "outputs": [],
   "source": [
    "len(merged[(merged.BR_1 < merged.BR_2) | (merged.compound_1 < merged.compound_2) & ~((merged.BR_1 > merged.BR_2) & (merged.compound_1 < merged.compound_2))])"
   ]
  },
  {
   "cell_type": "code",
   "execution_count": null,
   "metadata": {},
   "outputs": [],
   "source": []
  }
 ],
 "metadata": {
  "kernelspec": {
   "display_name": ".venv",
   "language": "python",
   "name": "python3"
  },
  "language_info": {
   "codemirror_mode": {
    "name": "ipython",
    "version": 3
   },
   "file_extension": ".py",
   "mimetype": "text/x-python",
   "name": "python",
   "nbconvert_exporter": "python",
   "pygments_lexer": "ipython3",
   "version": "3.8.0"
  },
  "orig_nbformat": 4
 },
 "nbformat": 4,
 "nbformat_minor": 2
}
