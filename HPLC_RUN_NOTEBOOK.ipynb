{
 "cells": [
  {
   "attachments": {},
   "cell_type": "markdown",
   "metadata": {},
   "source": [
    "# %% LE PLAN\n",
    "\n",
    "'''\n",
    "    1. create rations for each brain region: DOP/DAP, HIA/5HT, 3MT/DAP\n",
    "    2. calculate and save to table average, SD and SEM\n",
    "    3. ShapiroWilk test for normailty (note if not noirmal) and statistical analysis\n",
    "    4. plot histograms with SEM and ** for each treatment, compound and BR\n",
    "    5. test normaility for correlation if normal : \n",
    "                                                    --> pearson product coirrelation plots \n",
    "                            non-parametric data :\n",
    "                                                    --> spearman coirrelation plots      \n",
    "                                                    \n",
    "            produced for each BR comparing compunds and compound comparing BR\n",
    "    6. PCA for  complete compound_BR/ ratio_BR sets between groups \n",
    "\n",
    "\n",
    "'''"
   ]
  },
  {
   "attachments": {},
   "cell_type": "markdown",
   "metadata": {},
   "source": [
    "Imports and Constants:"
   ]
  },
  {
   "cell_type": "code",
   "execution_count": 1,
   "metadata": {},
   "outputs": [],
   "source": [
    "from sklearn.preprocessing import StandardScaler # mean = 0 vairance =1\n",
    "from sklearn.decomposition import PCA\n",
    "from HPLC_module import *  # must be in the same directory\n",
    "import os\n",
    "from HPLC_MODULE_NOTEBOOK import applyMappingToColumn #Must be reimported when changes made to module file\n",
    "\n",
    "path = os.getcwd() + '/input/TCB2_data_APRIL23.csv'  # TCB2 #using current working directory plus file name \n",
    "col_names = ['mouse_id' , 'treatment' , 'BR' , 'compound' , 'ng_mg']"
   ]
  },
  {
   "cell_type": "markdown",
   "metadata": {},
   "source": []
  },
  {
   "attachments": {},
   "cell_type": "markdown",
   "metadata": {},
   "source": [
    "Load and Restructure df:"
   ]
  },
  {
   "cell_type": "code",
   "execution_count": 13,
   "metadata": {},
   "outputs": [
    {
     "data": {
      "text/plain": [
       "mouse_id     float64\n",
       "treatment    float64\n",
       "BR            object\n",
       "compound      object\n",
       "ng_mg        float64\n",
       "dtype: object"
      ]
     },
     "execution_count": 13,
     "metadata": {},
     "output_type": "execute_result"
    }
   ],
   "source": [
    "\n",
    "df_raw = pd.read_csv(path, header=0)\n",
    "df = df_raw.copy() #cworking df \n",
    "df = df.replace(np.nan, 0) # to set all 0 to Nan\n",
    "\n",
    "raw_col_names = df_raw.columns.copy()\n",
    "result_rows = []\n",
    "\n",
    "for ind, row in df_raw.iterrows(): #loop for row get mouse and group\n",
    "    \n",
    "    mouse_id = row[0]\n",
    "    treatment = row[1]\n",
    "\n",
    "    for val, col_name in zip(row[2:], raw_col_names[2:]): #loop within row\n",
    "\n",
    "        if val > 0:\n",
    "            compound, BR = col_name.split('_')\n",
    "            result_rows.append([mouse_id, treatment, BR, compound, val])\n",
    "\n",
    "restructured_df = pd.DataFrame(result_rows, columns=col_names)\n",
    "restructured_df.dtypes"
   ]
  },
  {
   "cell_type": "code",
   "execution_count": 5,
   "metadata": {},
   "outputs": [
    {
     "data": {
      "text/plain": [
       "mouse_id     float64\n",
       "treatment    float64\n",
       "BR            object\n",
       "compound      object\n",
       "ng_mg        float64\n",
       "dtype: object"
      ]
     },
     "execution_count": 5,
     "metadata": {},
     "output_type": "execute_result"
    }
   ],
   "source": [
    "restructured_df.dtypes"
   ]
  },
  {
   "cell_type": "code",
   "execution_count": 14,
   "metadata": {},
   "outputs": [
    {
     "data": {
      "text/html": [
       "<div>\n",
       "<style scoped>\n",
       "    .dataframe tbody tr th:only-of-type {\n",
       "        vertical-align: middle;\n",
       "    }\n",
       "\n",
       "    .dataframe tbody tr th {\n",
       "        vertical-align: top;\n",
       "    }\n",
       "\n",
       "    .dataframe thead th {\n",
       "        text-align: right;\n",
       "    }\n",
       "</style>\n",
       "<table border=\"1\" class=\"dataframe\">\n",
       "  <thead>\n",
       "    <tr style=\"text-align: right;\">\n",
       "      <th></th>\n",
       "      <th>mouse_id</th>\n",
       "      <th>treatment</th>\n",
       "      <th>BR</th>\n",
       "      <th>compound</th>\n",
       "      <th>ng_mg</th>\n",
       "    </tr>\n",
       "  </thead>\n",
       "  <tbody>\n",
       "    <tr>\n",
       "      <th>0</th>\n",
       "      <td>2.0</td>\n",
       "      <td>vehicles</td>\n",
       "      <td>OF</td>\n",
       "      <td>LDOPA</td>\n",
       "      <td>0.038630</td>\n",
       "    </tr>\n",
       "    <tr>\n",
       "      <th>1</th>\n",
       "      <td>2.0</td>\n",
       "      <td>vehicles</td>\n",
       "      <td>OF</td>\n",
       "      <td>NA</td>\n",
       "      <td>0.163797</td>\n",
       "    </tr>\n",
       "    <tr>\n",
       "      <th>2</th>\n",
       "      <td>2.0</td>\n",
       "      <td>vehicles</td>\n",
       "      <td>OF</td>\n",
       "      <td>A</td>\n",
       "      <td>0.004028</td>\n",
       "    </tr>\n",
       "    <tr>\n",
       "      <th>3</th>\n",
       "      <td>2.0</td>\n",
       "      <td>vehicles</td>\n",
       "      <td>OF</td>\n",
       "      <td>5HTP</td>\n",
       "      <td>0.007148</td>\n",
       "    </tr>\n",
       "    <tr>\n",
       "      <th>4</th>\n",
       "      <td>2.0</td>\n",
       "      <td>vehicles</td>\n",
       "      <td>OF</td>\n",
       "      <td>DOPAC</td>\n",
       "      <td>0.018343</td>\n",
       "    </tr>\n",
       "    <tr>\n",
       "      <th>...</th>\n",
       "      <td>...</td>\n",
       "      <td>...</td>\n",
       "      <td>...</td>\n",
       "      <td>...</td>\n",
       "      <td>...</td>\n",
       "    </tr>\n",
       "    <tr>\n",
       "      <th>15984</th>\n",
       "      <td>70.0</td>\n",
       "      <td>10mg/kgTCB</td>\n",
       "      <td>CE</td>\n",
       "      <td>DOPAC</td>\n",
       "      <td>0.029512</td>\n",
       "    </tr>\n",
       "    <tr>\n",
       "      <th>15985</th>\n",
       "      <td>70.0</td>\n",
       "      <td>10mg/kgTCB</td>\n",
       "      <td>CE</td>\n",
       "      <td>DA</td>\n",
       "      <td>0.026709</td>\n",
       "    </tr>\n",
       "    <tr>\n",
       "      <th>15986</th>\n",
       "      <td>70.0</td>\n",
       "      <td>10mg/kgTCB</td>\n",
       "      <td>CE</td>\n",
       "      <td>5HIAA</td>\n",
       "      <td>0.074892</td>\n",
       "    </tr>\n",
       "    <tr>\n",
       "      <th>15987</th>\n",
       "      <td>70.0</td>\n",
       "      <td>10mg/kgTCB</td>\n",
       "      <td>CE</td>\n",
       "      <td>HVA</td>\n",
       "      <td>0.035113</td>\n",
       "    </tr>\n",
       "    <tr>\n",
       "      <th>15988</th>\n",
       "      <td>70.0</td>\n",
       "      <td>10mg/kgTCB</td>\n",
       "      <td>CE</td>\n",
       "      <td>5HT</td>\n",
       "      <td>0.109190</td>\n",
       "    </tr>\n",
       "  </tbody>\n",
       "</table>\n",
       "<p>15989 rows × 5 columns</p>\n",
       "</div>"
      ],
      "text/plain": [
       "       mouse_id   treatment  BR compound     ng_mg\n",
       "0           2.0    vehicles  OF    LDOPA  0.038630\n",
       "1           2.0    vehicles  OF       NA  0.163797\n",
       "2           2.0    vehicles  OF        A  0.004028\n",
       "3           2.0    vehicles  OF     5HTP  0.007148\n",
       "4           2.0    vehicles  OF    DOPAC  0.018343\n",
       "...         ...         ...  ..      ...       ...\n",
       "15984      70.0  10mg/kgTCB  CE    DOPAC  0.029512\n",
       "15985      70.0  10mg/kgTCB  CE       DA  0.026709\n",
       "15986      70.0  10mg/kgTCB  CE    5HIAA  0.074892\n",
       "15987      70.0  10mg/kgTCB  CE      HVA  0.035113\n",
       "15988      70.0  10mg/kgTCB  CE      5HT  0.109190\n",
       "\n",
       "[15989 rows x 5 columns]"
      ]
     },
     "execution_count": 14,
     "metadata": {},
     "output_type": "execute_result"
    }
   ],
   "source": [
    "# Inputs: \n",
    "compound_ratio_dict = {'DOPAC': ['DA'],     # TCB2\n",
    "                       '5HIAA': ['5HT'],\n",
    "                       '3MT': ['DA'],\n",
    "                       'HVA': ['DA', '3MT', 'DOPAC'],\n",
    "                       'GLN': ['GLU']}\n",
    "\n",
    "treatment_dict = {1: 'vehicles', 2: '10mg/kgTCB', 3: '3mg/kgTCB',\n",
    "                  4: '0.3mg/kgTCB', 5: 'TCB+MDL', 6: '0.2mg/kgMDL'} \n",
    "\n",
    "palette_labeled = {'vehicles': \"white\",  # TCB2\n",
    "                   '10mg/kgTCB': \"firebrick\",\n",
    "                   '3mg/kgTCB': \"red\",\n",
    "                   '0.3mg/kgTCB': \"salmon\",\n",
    "                   'TCB+MDL': \"grey\",\n",
    "                   '0.2mg/kgMDL': \"black\"}\n",
    "\n",
    "#intergrate \n",
    "restructured_df = applyMappingToColumn(restructured_df, 'treatment', treatment_dict )\n",
    "\n",
    "restructured_df\n",
    "\n"
   ]
  },
  {
   "cell_type": "code",
   "execution_count": null,
   "metadata": {},
   "outputs": [],
   "source": [
    "#exclusion of outliers Grubbs test \n",
    "#create ratios first as if there is a systematic error for a BR (run together) the ratio may still be good and there deserved to have a grubbs test for its own \n",
    "#treatment, compound, BR"
   ]
  },
  {
   "attachments": {},
   "cell_type": "markdown",
   "metadata": {},
   "source": [
    "#generate mean, sd and sem table for each 'data set' i.e. treatment, BR, compound"
   ]
  },
  {
   "cell_type": "code",
   "execution_count": null,
   "metadata": {},
   "outputs": [],
   "source": [
    "#statistical testing\n",
    "#remi: here i need to build in flexable stats structure\n",
    "\n",
    "#dose responce data (single factor) --> one way ANOVA --> post hoc Tukey \n",
    "#agonist antagonist data (multifactor pathway) --> two way ANOVA --> one way ANOVA --> post hoc Tukey\n",
    "\n",
    "\n",
    "\n",
    "#histograms with stats plotted (idealy chosing the level of stats i.e. significance in two way ANOVA or only if it passes all?)"
   ]
  }
 ],
 "metadata": {
  "kernelspec": {
   "display_name": ".venv",
   "language": "python",
   "name": "python3"
  },
  "language_info": {
   "codemirror_mode": {
    "name": "ipython",
    "version": 3
   },
   "file_extension": ".py",
   "mimetype": "text/x-python",
   "name": "python",
   "nbconvert_exporter": "python",
   "pygments_lexer": "ipython3",
   "version": "3.9.1"
  },
  "orig_nbformat": 4
 },
 "nbformat": 4,
 "nbformat_minor": 2
}
