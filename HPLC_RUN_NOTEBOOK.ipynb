{
 "cells": [
  {
   "attachments": {},
   "cell_type": "markdown",
   "metadata": {},
   "source": [
    "HPLC ANALSIS OF COMPOUNDS\n",
    "\n",
    "Set:\n",
    "    filename to .csv with data structure:\n",
    "            'mouse_no' 'group_no' 'compound_region'\n",
    "                1           2           ng_mg\n",
    "    treatment_mapping: \n",
    "    compound_ratio_mapping: dictionary of the ratios of interest \n",
    "    experimental_info: \n",
    "    \n",
    "\n",
    "QUANTITATIVE ANALYSIS\n",
    "    aggrogate stats\n",
    "    histograms comparing mean +/- SEM\n",
    "\n",
    "QUALITATIVE ANALYSIS\n",
    "    correlograms\n",
    "    PCA"
   ]
  },
  {
   "attachments": {},
   "cell_type": "markdown",
   "metadata": {},
   "source": []
  },
  {
   "attachments": {},
   "cell_type": "markdown",
   "metadata": {},
   "source": [
    "Imports and Constants:"
   ]
  },
  {
   "cell_type": "code",
   "execution_count": 1,
   "metadata": {},
   "outputs": [
    {
     "name": "stdout",
     "output_type": "stream",
     "text": [
      "TREATMENT MAPPING {1: {'treatment': 'vehicles', 'color': 'white', 'experiments': ['dose_response', 'agonist_antagonist']}, 2: {'treatment': '10mg/kgTCB', 'color': 'firebrick', 'experiments': ['dose_response']}, 3: {'treatment': '3mg/kgTCB', 'color': 'red', 'experiments': ['dose_response', 'agonist_antagonist']}, 4: {'treatment': '0.3mg/kgTCB', 'color': 'salmon', 'experiments': ['dose_response']}, 5: {'treatment': 'TCB+MDL', 'color': 'grey', 'experiments': ['agonist_antagonist']}, 6: {'treatment': '0.2mg/kgMDL', 'color': 'black', 'experiments': ['agonist_antagonist']}} SAVED TO /home/remi/jasmine/input/cache/TCB2_data_HPLC SUBCACHE\n",
      "EXPERIMENTAL INFO {'dose_response': {'groups': [1, 2, 3, 4], 'independant_vars': ['TCB2']}, 'agonist_antagonist': {'groups': [1, 3, 5, 6], 'independant_vars': ['TCB2', 'MDL'], 'outliers': ['grubbs'], 'correlation_statistics': ['pearson'], 'quantitative_statistics': {'twoway_anova': True, 'oneoway_tukey': True, 'tukey': True}}} SAVED TO /home/remi/jasmine/input/cache/TCB2_data_HPLC SUBCACHE\n",
      "RETRIEVED \"compound_and_ratios_df\" FROM \"TCB2_data_HPLC\" CACHE\n",
      "RETRIEVED \"compound_and_ratios_df\" FROM \"TCB2_data_HPLC\" CACHE\n"
     ]
    },
    {
     "ename": "ValueError",
     "evalue": "Columns must be same length as key",
     "output_type": "error",
     "traceback": [
      "\u001b[0;31m---------------------------------------------------------------------------\u001b[0m",
      "\u001b[0;31mValueError\u001b[0m                                Traceback (most recent call last)",
      "Cell \u001b[0;32mIn[1], line 33\u001b[0m\n\u001b[1;32m     30\u001b[0m HT_filename \u001b[39m=\u001b[39m \u001b[39m'\u001b[39m\u001b[39mTCB2_data_HT.csv\u001b[39m\u001b[39m'\u001b[39m\n\u001b[1;32m     32\u001b[0m saveMetadata(filename, treatment_mapping\u001b[39m=\u001b[39mtreatment_mapping, experimental_info\u001b[39m=\u001b[39mexperimental_info)\n\u001b[0;32m---> 33\u001b[0m editOutliers(filename, \u001b[39m0.05\u001b[39;49m)\n",
      "File \u001b[0;32m~/jasmine/module/outliers.py:43\u001b[0m, in \u001b[0;36meditOutliers\u001b[0;34m(filename, p_value_threshold)\u001b[0m\n\u001b[1;32m     41\u001b[0m experiment_info \u001b[39m=\u001b[39m experimental_info[experiment]\n\u001b[1;32m     42\u001b[0m test \u001b[39m=\u001b[39m askMultipleChoice(\u001b[39m\"\u001b[39m\u001b[39mWhich outliers\u001b[39m\u001b[39m\"\u001b[39m, experiment_info[\u001b[39m\"\u001b[39m\u001b[39moutliers\u001b[39m\u001b[39m\"\u001b[39m])\n\u001b[0;32m---> 43\u001b[0m processOutliers(filename, experiment, compound, region, test, p_value_threshold)\n\u001b[1;32m     44\u001b[0m edit_outliers \u001b[39m=\u001b[39m \u001b[39minput\u001b[39m(\u001b[39m\"\u001b[39m\u001b[39mEdit more outliers? (y/n)\u001b[39m\u001b[39m\\n\u001b[39;00m\u001b[39m\"\u001b[39m) \u001b[39m==\u001b[39m \u001b[39m\"\u001b[39m\u001b[39my\u001b[39m\u001b[39m\"\u001b[39m\n",
      "File \u001b[0;32m~/jasmine/module/outliers.py:72\u001b[0m, in \u001b[0;36mprocessOutliers\u001b[0;34m(filename, experiment, compound, region, test_name, p_value_threshold)\u001b[0m\n\u001b[1;32m     70\u001b[0m hue \u001b[39m=\u001b[39m {\u001b[39mf\u001b[39m\u001b[39m\"\u001b[39m\u001b[39m{\u001b[39;00mtest_name\u001b[39m}\u001b[39;00m\u001b[39m_outlier\u001b[39m\u001b[39m\"\u001b[39m: {\u001b[39mTrue\u001b[39;00m: \u001b[39m\"\u001b[39m\u001b[39mred\u001b[39m\u001b[39m\"\u001b[39m, \u001b[39mFalse\u001b[39;00m: \u001b[39m\"\u001b[39m\u001b[39mblack\u001b[39m\u001b[39m\"\u001b[39m}}\n\u001b[1;32m     71\u001b[0m \u001b[39m# Ask user to confirm outliers\u001b[39;00m\n\u001b[0;32m---> 72\u001b[0m data[eliminated_col_name] \u001b[39m=\u001b[39m data\u001b[39m.\u001b[39mapply(\n\u001b[1;32m     73\u001b[0m     \u001b[39mlambda\u001b[39;00m row: decideOutlier(data, row, order, palette, hue)\n\u001b[1;32m     74\u001b[0m     \u001b[39mif\u001b[39;00m row[outlier_col_name]\n\u001b[1;32m     75\u001b[0m     \u001b[39melse\u001b[39;00m \u001b[39mFalse\u001b[39;00m,\n\u001b[1;32m     76\u001b[0m     axis\u001b[39m=\u001b[39m\u001b[39m1\u001b[39m,\n\u001b[1;32m     77\u001b[0m )\n\u001b[1;32m     78\u001b[0m \u001b[39m# Display figure with outliers highlighted\u001b[39;00m\n\u001b[1;32m     79\u001b[0m hue \u001b[39m=\u001b[39m {eliminated_col_name: {\u001b[39mTrue\u001b[39;00m: \u001b[39m\"\u001b[39m\u001b[39mred\u001b[39m\u001b[39m\"\u001b[39m, \u001b[39mFalse\u001b[39;00m: \u001b[39m\"\u001b[39m\u001b[39mblack\u001b[39m\u001b[39m\"\u001b[39m}}\n",
      "File \u001b[0;32m~/jasmine/.venv/lib/python3.8/site-packages/pandas/core/frame.py:3949\u001b[0m, in \u001b[0;36mDataFrame.__setitem__\u001b[0;34m(self, key, value)\u001b[0m\n\u001b[1;32m   3947\u001b[0m     \u001b[39mself\u001b[39m\u001b[39m.\u001b[39m_setitem_array(key, value)\n\u001b[1;32m   3948\u001b[0m \u001b[39melif\u001b[39;00m \u001b[39misinstance\u001b[39m(value, DataFrame):\n\u001b[0;32m-> 3949\u001b[0m     \u001b[39mself\u001b[39;49m\u001b[39m.\u001b[39;49m_set_item_frame_value(key, value)\n\u001b[1;32m   3950\u001b[0m \u001b[39melif\u001b[39;00m (\n\u001b[1;32m   3951\u001b[0m     is_list_like(value)\n\u001b[1;32m   3952\u001b[0m     \u001b[39mand\u001b[39;00m \u001b[39mnot\u001b[39;00m \u001b[39mself\u001b[39m\u001b[39m.\u001b[39mcolumns\u001b[39m.\u001b[39mis_unique\n\u001b[1;32m   3953\u001b[0m     \u001b[39mand\u001b[39;00m \u001b[39m1\u001b[39m \u001b[39m<\u001b[39m \u001b[39mlen\u001b[39m(\u001b[39mself\u001b[39m\u001b[39m.\u001b[39mcolumns\u001b[39m.\u001b[39mget_indexer_for([key])) \u001b[39m==\u001b[39m \u001b[39mlen\u001b[39m(value)\n\u001b[1;32m   3954\u001b[0m ):\n\u001b[1;32m   3955\u001b[0m     \u001b[39m# Column to set is duplicated\u001b[39;00m\n\u001b[1;32m   3956\u001b[0m     \u001b[39mself\u001b[39m\u001b[39m.\u001b[39m_setitem_array([key], value)\n",
      "File \u001b[0;32m~/jasmine/.venv/lib/python3.8/site-packages/pandas/core/frame.py:4078\u001b[0m, in \u001b[0;36mDataFrame._set_item_frame_value\u001b[0;34m(self, key, value)\u001b[0m\n\u001b[1;32m   4076\u001b[0m len_cols \u001b[39m=\u001b[39m \u001b[39m1\u001b[39m \u001b[39mif\u001b[39;00m is_scalar(cols) \u001b[39mor\u001b[39;00m \u001b[39misinstance\u001b[39m(cols, \u001b[39mtuple\u001b[39m) \u001b[39melse\u001b[39;00m \u001b[39mlen\u001b[39m(cols)\n\u001b[1;32m   4077\u001b[0m \u001b[39mif\u001b[39;00m len_cols \u001b[39m!=\u001b[39m \u001b[39mlen\u001b[39m(value\u001b[39m.\u001b[39mcolumns):\n\u001b[0;32m-> 4078\u001b[0m     \u001b[39mraise\u001b[39;00m \u001b[39mValueError\u001b[39;00m(\u001b[39m\"\u001b[39m\u001b[39mColumns must be same length as key\u001b[39m\u001b[39m\"\u001b[39m)\n\u001b[1;32m   4080\u001b[0m \u001b[39m# align right-hand-side columns if self.columns\u001b[39;00m\n\u001b[1;32m   4081\u001b[0m \u001b[39m# is multi-index and self[key] is a sub-frame\u001b[39;00m\n\u001b[1;32m   4082\u001b[0m \u001b[39mif\u001b[39;00m \u001b[39misinstance\u001b[39m(\u001b[39mself\u001b[39m\u001b[39m.\u001b[39mcolumns, MultiIndex) \u001b[39mand\u001b[39;00m \u001b[39misinstance\u001b[39m(\n\u001b[1;32m   4083\u001b[0m     loc, (\u001b[39mslice\u001b[39m, Series, np\u001b[39m.\u001b[39mndarray, Index)\n\u001b[1;32m   4084\u001b[0m ):\n",
      "\u001b[0;31mValueError\u001b[0m: Columns must be same length as key"
     ]
    }
   ],
   "source": [
    "from main import * #Must be reimported when changes made to module file\n",
    "\n",
    "#TO DO : This dhould be applied to the big df from the get go to not have to do it every time\n",
    "treatment_mapping = { #TO DO : change name to treatment_info and add co lumns in df REMI\n",
    "    1: {'treatment': 'vehicles', 'color': \"white\", 'experiments': ['dose_response','agonist_antagonist']},\n",
    "    2: {'treatment': '10mg/kgTCB', 'color': \"firebrick\", 'experiments': ['dose_response']},\n",
    "    3: {'treatment': '3mg/kgTCB', 'color': \"red\", 'experiments': ['dose_response','agonist_antagonist']},\n",
    "    4: {'treatment': '0.3mg/kgTCB', 'color': \"salmon\", 'experiments': ['dose_response']},\n",
    "    5: {'treatment': 'TCB+MDL', 'color': \"grey\", 'experiments': ['agonist_antagonist']},\n",
    "    6: {'treatment': '0.2mg/kgMDL', 'color': \"black\", 'experiments': ['agonist_antagonist']}\n",
    "    } \n",
    "compound_ratio_mapping = {'DOPAC': ['DA'],     \n",
    "                       '5HIAA': ['5HT'],\n",
    "                       '3MT': ['DA'],\n",
    "                       'HVA': ['DA', '3MT', 'DOPAC'],\n",
    "                       'GLN': ['GLU']}\n",
    "\n",
    "#JASMINETODO: Finish filling up experimental info for dose response and add statistical test/outlier test you might think about\n",
    "#JASMINETODO: Also wouldnt the quantitative tests and outlier test be generic and not specific to experiments?\n",
    "#JASMINETODO: add region subclassification\n",
    "experimental_info = {'dose_response': {'groups':[1,2,3,4], 'independant_vars': ['TCB2']}, \n",
    "                     'agonist_antagonist':{\n",
    "                         'groups':[1,3,5,6], \n",
    "                         'independant_vars': ['TCB2', 'MDL', ], \n",
    "                         'outliers': ['grubbs'], \n",
    "                         'correlation_statistics': ['pearson'], \n",
    "                         'quantitative_statistics': {'twoway_anova':True, 'oneoway_tukey':True, 'tukey':True}}}\n",
    "\n",
    "filename = 'TCB2_data_HPLC.csv'  # TCB2 #using current working directory plus file name \n",
    "HT_filename = 'TCB2_data_HT.csv'\n",
    "\n",
    "saveMetadata(filename, treatment_mapping=treatment_mapping, experimental_info=experimental_info)\n",
    "editOutliers(filename, 0.05)"
   ]
  },
  {
   "cell_type": "code",
   "execution_count": null,
   "metadata": {},
   "outputs": [],
   "source": [
    "oldBuildQuantitativeStatsDf(filename, p_value_threshold=0.05)"
   ]
  },
  {
   "cell_type": "code",
   "execution_count": null,
   "metadata": {},
   "outputs": [],
   "source": [
    "#HEAD TWITCH BEHAVIORAL ANALYSIS\n",
    "HT_df = getRawHTDf(HT_filename)\n",
    "getHTHistogram(filename, HT_filename, experiment='agonist_antagonist', p_value_threshold=0.05, to_plot=['HT_20', 'HT_30', 'HT_40', 'HT_49'], from_scratch=True)\n"
   ]
  },
  {
   "attachments": {},
   "cell_type": "markdown",
   "metadata": {},
   "source": []
  },
  {
   "attachments": {},
   "cell_type": "markdown",
   "metadata": {},
   "source": [
    "OUTLIER DETECTION "
   ]
  },
  {
   "cell_type": "code",
   "execution_count": null,
   "metadata": {},
   "outputs": [],
   "source": [
    "\n",
    "    #propose outliers and show on plot with group: \n",
    "    #accept or reject \n",
    "    #modity df and save something indicating removed data \n"
   ]
  },
  {
   "attachments": {},
   "cell_type": "markdown",
   "metadata": {},
   "source": [
    "AGGREGATE STATS\n",
    "    df with:  shapiro_F, shapiro_p, is_valid, mean, SD, SEM, list of values\n",
    "    for each treatment/region/compound or treatment/region/ratio"
   ]
  },
  {
   "cell_type": "code",
   "execution_count": null,
   "metadata": {},
   "outputs": [],
   "source": [
    "compound = getCompoundDf(filename)\n",
    "compound[(compound.compound == 'TAU') & (compound.region == 'vH') & (compound.group_id == 1) & (compound.experiment)]"
   ]
  },
  {
   "cell_type": "code",
   "execution_count": null,
   "metadata": {},
   "outputs": [],
   "source": [
    "data = getRawDf(filename)\n",
    "data[data.group_id == 1]['TAU_vH']"
   ]
  },
  {
   "cell_type": "code",
   "execution_count": null,
   "metadata": {},
   "outputs": [],
   "source": [
    "stats = getAggregateStatsDf(filename, df_type='compound')\n",
    "stats\n",
    "#cols for ComparitiveStatsDF:\n",
    "#compound, region, experiment, single_factor_test, single_factor_p, multiple_factor_test, multiple_factor_p, treatment_1, treatment_2, post_hoc_test, post_hoc_p"
   ]
  },
  {
   "attachments": {},
   "cell_type": "markdown",
   "metadata": {},
   "source": [
    "QUANTITAIVE ANALYSIS \n",
    "    stats: perfrom stats in line with experimental_info\n",
    "    plot histogram of mean +/- SEM with significance show as indicated by experimental_info"
   ]
  },
  {
   "cell_type": "code",
   "execution_count": null,
   "metadata": {},
   "outputs": [],
   "source": [
    "# woudl be ideal here too for new data to have a methid to loop all stats and indicate which are significant and only display those\n",
    "\n",
    "#reference for stats: https://www.statology.org/tukey-test-python/\n",
    "# #oneway (df, group_to_compare):\n",
    "# #inputs: array like groups e.g. group1,group2,group3,group4\n",
    "# #outputs two floats : F_value, p_value \n",
    "# #if p<0.05 the two groups do not have the same population mean \n",
    "# F_value, p_value = scipy.stats.f_oneway(group1,group2,group3,group4)\n",
    "\n",
    "# #two way anova (df, group_to_compare):\n",
    "# #inputs: df, dv='ng_mg', between= [factor_1, factor_2] #the factors should be boolian columns i.e. TCB2 = T/F and MDL = T/F\n",
    "# #outputs: df see https://pingouin-stats.org/build/html/generated/pingouin.anova.html\n",
    "#         # \tSource\tSS\tDF\tMS\tF\tp-unc\tnp2\n",
    "#         # 0\tANT_MDL\t0.001\t1\t0.001\t0.053\t0.819\t0.001\n",
    "#         # 1\tAG_TCB2\t0.007\t1\t0.007\t0.671\t0.418\t0.017\n",
    "#         # 2\tANT_MDL * AG_TCB2\t0.012\t1\t0.012\t1.123\t0.296\t0.028\n",
    "#         # 3\tResidual\t0.415\t39\t0.011\t\t\t\n",
    "\n",
    "# two_way_anova = pg.anova(data=df_anova_working, dv='dv', between=[\n",
    "#                                       ('ANT_MDL'), ('AG_TCB2')], detailed=True).round(3)\n",
    "\n",
    "\n",
    "\n",
    "# #tukey  --- post hoc DONE ON SITE AFTER ONE AND TWO WAY ARE IN DF to plot\n",
    "# #input df'ng_mg', df'grouping'\n",
    "# mc = MultiComparison(\n",
    "#     df_dose_responce[comp, BR], df_dose_responce['group', 'no'])\n",
    "# mc_results = mc.tukeyhsd()\n",
    "\n",
    "# #old df structure for input to two way ANOVA\n",
    "# d = {'dv': df_factors[comp, BR][indexes_to_keep], 'ANT_MDL': df_factors['ANT', 'MDL'][indexes_to_keep],\n",
    "#                   'AG_TCB2': df_factors['AG', 'TCB2'][indexes_to_keep], 'group': df_factors['group', 'no'][indexes_to_keep]}\n",
    "            \n",
    "\n",
    "\n",
    "\n",
    "getSingleHistogram(filename, 'dose_response', '5HT', 'CC', 0.05, from_scratch = False)\n",
    "\n",
    "# buildSingleHistogram(filename, 'dose_response', '5HT', 'CC', 0.05)"
   ]
  },
  {
   "attachments": {},
   "cell_type": "markdown",
   "metadata": {},
   "source": [
    "QUALITATIVE ANALYSIS - CORRELATIONS\n",
    "\n",
    "    clasical_corellogram     :      getAndPlotSingleCorrelogram(filename, experiment='agonist_antagonist', correlogram_type='compound',                 \n",
    "                                                                to_correlate='GLU', p_value_threshold=0.05, n_minimum=5, from_scratch= True) \n",
    "                       \n",
    "    \n",
    "    square_correlogram       :      getAndPlotSingleCorrelogram(filename, experiment='agonist_antagonist', correlogram_type='compound', \n",
    "                                                                to_correlate='GLU-GABA', p_value_threshold=0.05, n_minimum=5, from_scratch= True) \n",
    "\n",
    "\n",
    "    bar_corellogram\n",
    "                                                    #see whatsapp image 3/5/23\n",
    "        within BR       /       within compound\n",
    "\n"
   ]
  },
  {
   "cell_type": "code",
   "execution_count": null,
   "metadata": {},
   "outputs": [],
   "source": [
    "\n",
    "#build bar corr\n",
    "#from_scratch = not working in getAndPlotMultipleCorrelograms()\n",
    "#how can i get access to the file name or the .svg !?!?\n",
    "\n",
    "### CORRELOGRAMS ###\n",
    "# use case:\n",
    "# getAndPlotMultipleCorrelograms(filename, {'compound':['DA', 'NA', '5HT-DA'], 'region':['CC','CC-IC'], 'experiment': 'dose_response'}, p_value_threshold=0.05, n_minimum=5, from_scratch=True)\n",
    "# getAndPlotSingleCorrelogram(filename, p_value_threshold=0.05, n_minimum=5) #This is the user friendly version with prompt\n",
    "# getAndPlotSingleCorrelogram(filename, experiment='dose_response', correlogram_type='compound', to_correlate='DA', p_value_threshold=0.05, n_minimum=5) #This is to save time and skip the prompt\n",
    "# getAndPlotSingleCorrelogram(filename, experiment='agonist_antagonist', correlogram_type='compound', to_correlate='GLU-GABA', p_value_threshold=0.05, n_minimum=5, from_scratch= True) #This is to save time and skip the prompt\n",
    "\n",
    "\n",
    "getAndPlotSingleCorrelogram(filename, experiment='agonist_antagonist', correlogram_type='compound', to_correlate='5HT', \n",
    "                            columns = ['OF', 'PL', 'CC', 'IC', 'M', 'SJ', 'SL1', 'SR1',  'AC', 'V' , 'Am', 'dH', 'vH', \n",
    "                                       'NAc', 'VM', 'DM', 'VL', 'DL', 'MD', 'VPL', 'VPR', 'DG', 'Y', 'SC', 'SN', 'VTA', \n",
    "                                       'DR', 'MR', 'CE' ], p_value_threshold=0.05, n_minimum=5, from_scratch=True) #This is to save time and skip the prompt\n",
    "\n",
    "getAndPlotSingleCorrelogram(filename, experiment='agonist_antagonist', correlogram_type='compound', to_correlate='GLU', \n",
    "                            columns = ['OF', 'PL', 'CC', 'IC', 'M', 'SJ', 'SL1', 'SR1',  'AC', 'V' , 'Am', 'dH', 'vH', \n",
    "                                       'NAc', 'VM', 'DM', 'VL', 'DL', 'MD', 'VPL', 'VPR', 'DG', 'Y', 'SC', 'SN', 'VTA', \n",
    "                                       'DR', 'MR', 'CE' ], p_value_threshold=0.05, n_minimum=5, from_scratch=True) #This is to save time and skip the prompt\n",
    "\n",
    "getAndPlotSingleCorrelogram(filename, experiment='agonist_antagonist', correlogram_type='compound', to_correlate='GABA', \n",
    "                            columns = ['OF', 'PL', 'CC', 'IC', 'M', 'SJ', 'SL1', 'SR1',  'AC', 'V' , 'Am', 'dH', 'vH', \n",
    "                                       'NAc', 'VM', 'DM', 'VL', 'DL', 'MD', 'VPL', 'VPR', 'DG', 'Y', 'SC', 'SN', 'VTA', \n",
    "                                       'DR', 'MR', 'CE' ], p_value_threshold=0.05, n_minimum=5, from_scratch=True) #This is to save time and skip the prompt\n"
   ]
  }
 ],
 "metadata": {
  "kernelspec": {
   "display_name": ".venv",
   "language": "python",
   "name": "python3"
  },
  "language_info": {
   "codemirror_mode": {
    "name": "ipython",
    "version": 3
   },
   "file_extension": ".py",
   "mimetype": "text/x-python",
   "name": "python",
   "nbconvert_exporter": "python",
   "pygments_lexer": "ipython3",
   "version": "3.8.0"
  },
  "orig_nbformat": 4
 },
 "nbformat": 4,
 "nbformat_minor": 2
}
