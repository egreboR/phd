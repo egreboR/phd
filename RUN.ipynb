{
 "cells": [
  {
   "attachments": {},
   "cell_type": "markdown",
   "metadata": {},
   "source": [
    "HPLC ANALSIS OF COMPOUNDS\n",
    "\n",
    "Set:\n",
    "    filename to .csv with data structure:\n",
    "            'mouse_no' 'group_no' 'compound_region'\n",
    "                1           2           ng_mg\n",
    "    treatment_mapping: \n",
    "    compound_ratio_mapping: dictionary of the ratios of interest \n",
    "    experimental_info: \n",
    "    \n",
    "\n",
    "QUANTITATIVE ANALYSIS\n",
    "    aggrogate stats\n",
    "    histograms comparing mean +/- SEM\n",
    "\n",
    "QUALITATIVE ANALYSIS\n",
    "    correlograms\n",
    "    PCA"
   ]
  },
  {
   "attachments": {},
   "cell_type": "markdown",
   "metadata": {},
   "source": []
  },
  {
   "attachments": {},
   "cell_type": "markdown",
   "metadata": {},
   "source": [
    "Imports and Constants:"
   ]
  },
  {
   "cell_type": "code",
   "execution_count": 5,
   "metadata": {},
   "outputs": [
    {
     "ename": "SystemExit",
     "evalue": "",
     "output_type": "error",
     "traceback": [
      "An exception has occurred, use %tb to see the full traceback.\n",
      "\u001b[0;31mSystemExit\u001b[0m\n"
     ]
    },
    {
     "name": "stderr",
     "output_type": "stream",
     "text": [
      "/home/remi/jasmine/.venv/lib/python3.8/site-packages/IPython/core/interactiveshell.py:3513: UserWarning: To exit: use 'exit', 'quit', or Ctrl-D.\n",
      "  warn(\"To exit: use 'exit', 'quit', or Ctrl-D.\", stacklevel=1)\n"
     ]
    }
   ],
   "source": [
    "from main import *  # Must be reimported when changes made to module file\n",
    "\n",
    "# TO DO : This dhould be applied to the big df from the get go to not have to do it every time\n",
    "treatment_mapping = (\n",
    "    {  # TO DO : change name to treatment_info and add co lumns in df REMI\n",
    "        1: {\n",
    "            \"treatment\": \"vehicles\",\n",
    "            \"color\": \"white\",\n",
    "            \"experiments\": [\"dose_response\", \"agonist_antagonist\"],\n",
    "        },\n",
    "        2: {\n",
    "            \"treatment\": \"10mg/kgTCB\",\n",
    "            \"color\": \"firebrick\",\n",
    "            \"experiments\": [\"dose_response\"],\n",
    "        },\n",
    "        3: {\n",
    "            \"treatment\": \"3mg/kgTCB\",\n",
    "            \"color\": \"red\",\n",
    "            \"experiments\": [\"dose_response\", \"agonist_antagonist\"],\n",
    "        },\n",
    "        4: {\n",
    "            \"treatment\": \"0.3mg/kgTCB\",\n",
    "            \"color\": \"salmon\",\n",
    "            \"experiments\": [\"dose_response\"],\n",
    "        },\n",
    "        5: {\n",
    "            \"treatment\": \"0.2mg/kgMDL\",\n",
    "            \"color\": \"black\",\n",
    "            \"experiments\": [\"agonist_antagonist\"],\n",
    "        },\n",
    "        6: {\n",
    "            \"treatment\": \"TCB+MDL\",\n",
    "            \"color\": \"grey\",\n",
    "            \"experiments\": [\"agonist_antagonist\"],\n",
    "        },\n",
    "    }\n",
    ")\n",
    "compound_ratio_mapping = {\n",
    "    \"DOPAC\": [\"DA\"],\n",
    "    \"5HIAA\": [\"5HT\"],\n",
    "    \"3MT\": [\"DA\"],\n",
    "    \"HVA\": [\"DA\", \"3MT\", \"DOPAC\"],\n",
    "    \"GLN\": [\"GLU\"],\n",
    "}\n",
    "\n",
    "# JASMINETODO: Finish filling up experimental info for dose response and add statistical test/outlier test you might think about\n",
    "# JASMINETODO: Also wouldnt the quantitative tests and outlier test be generic and not specific to experiments?\n",
    "# JASMINETODO: add region subclassification\n",
    "experimental_info = {\n",
    "    \"dose_response\": {\"groups\": [1, 2, 3, 4], \"independant_vars\": [\"TCB2\"]},\n",
    "    \"agonist_antagonist\": {\n",
    "        \"groups\": [\n",
    "            1,\n",
    "            3,\n",
    "            5,\n",
    "            6,\n",
    "        ],  # JASMINETODO: the order here will be the one used by histogram and correlogram\n",
    "        \"independant_vars\": [\n",
    "            \"TCB2\",\n",
    "            \"MDL\",\n",
    "        ],\n",
    "        \"outliers\": [\"grubbs\"],\n",
    "        \"correlation_statistics\": [\"pearson\"],\n",
    "        \"quantitative_statistics\": {\n",
    "            \"twoway_anova\": True,\n",
    "            \"oneway_anova\": True,\n",
    "            \"tukey\": True,\n",
    "        },\n",
    "    },\n",
    "}\n",
    "\n",
    "filename = \"TCB2_data_HPLC.csv\"  # TCB2 #using current working directory plus file name\n",
    "# HT_filename = \"TCB2_data_HT.csv\"\n",
    "\n",
    "# saveMetadata(\n",
    "#     filename, treatment_mapping=treatment_mapping, experimental_info=experimental_info\n",
    "# )\n",
    "\n",
    "# quantitativeHistogram(\n",
    "#     filename,\n",
    "#     p_value_threshold=0.05,\n",
    "# )\n",
    "\n",
    "# correlogram(filename, p_value_threshold=0.05)\n",
    "singleQuantitativeHistogram(filename, experiment='agonist_antagonist', compound='DA', region=\"CC\", p_value_threshold=0.05)\n"
   ]
  },
  {
   "cell_type": "code",
   "execution_count": 3,
   "metadata": {},
   "outputs": [
    {
     "name": "stdout",
     "output_type": "stream",
     "text": [
      "1\n"
     ]
    }
   ],
   "source": [
    "print(input())"
   ]
  },
  {
   "cell_type": "code",
   "execution_count": null,
   "metadata": {},
   "outputs": [],
   "source": [
    "#HEAD TWITCH BEHAVIORAL ANALYSIS\n",
    "HT_df = getRawHTDf(HT_filename)\n",
    "getHTHistogram(filename, HT_filename, experiment='agonist_antagonist', p_value_threshold=0.05, to_plot=['HT_20', 'HT_30', 'HT_40', 'HT_49'], from_scratch=True)\n"
   ]
  },
  {
   "attachments": {},
   "cell_type": "markdown",
   "metadata": {},
   "source": []
  },
  {
   "attachments": {},
   "cell_type": "markdown",
   "metadata": {},
   "source": [
    "OUTLIER DETECTION "
   ]
  },
  {
   "cell_type": "code",
   "execution_count": null,
   "metadata": {},
   "outputs": [],
   "source": [
    "\n",
    "    #propose outliers and show on plot with group: \n",
    "    #accept or reject \n",
    "    #modity df and save something indicating removed data \n"
   ]
  },
  {
   "attachments": {},
   "cell_type": "markdown",
   "metadata": {},
   "source": [
    "AGGREGATE STATS\n",
    "    df with:  shapiro_F, shapiro_p, is_valid, mean, SD, SEM, list of values\n",
    "    for each treatment/region/compound or treatment/region/ratio"
   ]
  },
  {
   "cell_type": "code",
   "execution_count": null,
   "metadata": {},
   "outputs": [],
   "source": [
    "compound = getCompoundDf(filename)\n",
    "compound[(compound.compound == 'TAU') & (compound.region == 'vH') & (compound.group_id == 1) & (compound.experiment)]"
   ]
  },
  {
   "cell_type": "code",
   "execution_count": null,
   "metadata": {},
   "outputs": [],
   "source": [
    "data = getRawDf(filename)\n",
    "data[data.group_id == 1]['TAU_vH']"
   ]
  },
  {
   "cell_type": "code",
   "execution_count": null,
   "metadata": {},
   "outputs": [],
   "source": []
  },
  {
   "cell_type": "code",
   "execution_count": null,
   "metadata": {},
   "outputs": [],
   "source": [
    "stats = getAggregateStatsDf(filename, df_type='compound')\n",
    "stats\n",
    "#cols for ComparitiveStatsDF:\n",
    "#compound, region, experiment, single_factor_test, single_factor_p, multiple_factor_test, multiple_factor_p, treatment_1, treatment_2, post_hoc_test, post_hoc_p"
   ]
  },
  {
   "attachments": {},
   "cell_type": "markdown",
   "metadata": {},
   "source": [
    "QUANTITAIVE ANALYSIS \n",
    "    stats: perfrom stats in line with experimental_info\n",
    "    plot histogram of mean +/- SEM with significance show as indicated by experimental_info"
   ]
  },
  {
   "cell_type": "code",
   "execution_count": null,
   "metadata": {},
   "outputs": [],
   "source": [
    "# woudl be ideal here too for new data to have a methid to loop all stats and indicate which are significant and only display those\n",
    "\n",
    "#reference for stats: https://www.statology.org/tukey-test-python/\n",
    "# #oneway (df, group_to_compare):\n",
    "# #inputs: array like groups e.g. group1,group2,group3,group4\n",
    "# #outputs two floats : F_value, p_value \n",
    "# #if p<0.05 the two groups do not have the same population mean \n",
    "# F_value, p_value = scipy.stats.f_oneway(group1,group2,group3,group4)\n",
    "\n",
    "# #two way anova (df, group_to_compare):\n",
    "# #inputs: df, dv='ng_mg', between= [factor_1, factor_2] #the factors should be boolian columns i.e. TCB2 = T/F and MDL = T/F\n",
    "# #outputs: df see https://pingouin-stats.org/build/html/generated/pingouin.anova.html\n",
    "#         # \tSource\tSS\tDF\tMS\tF\tp-unc\tnp2\n",
    "#         # 0\tANT_MDL\t0.001\t1\t0.001\t0.053\t0.819\t0.001\n",
    "#         # 1\tAG_TCB2\t0.007\t1\t0.007\t0.671\t0.418\t0.017\n",
    "#         # 2\tANT_MDL * AG_TCB2\t0.012\t1\t0.012\t1.123\t0.296\t0.028\n",
    "#         # 3\tResidual\t0.415\t39\t0.011\t\t\t\n",
    "\n",
    "# two_way_anova = pg.anova(data=df_anova_working, dv='dv', between=[\n",
    "#                                       ('ANT_MDL'), ('AG_TCB2')], detailed=True).round(3)\n",
    "\n",
    "\n",
    "\n",
    "# #tukey  --- post hoc DONE ON SITE AFTER ONE AND TWO WAY ARE IN DF to plot\n",
    "# #input df'ng_mg', df'grouping'\n",
    "# mc = MultiComparison(\n",
    "#     df_dose_responce[comp, BR], df_dose_responce['group', 'no'])\n",
    "# mc_results = mc.tukeyhsd()\n",
    "\n",
    "# #old df structure for input to two way ANOVA\n",
    "# d = {'dv': df_factors[comp, BR][indexes_to_keep], 'ANT_MDL': df_factors['ANT', 'MDL'][indexes_to_keep],\n",
    "#                   'AG_TCB2': df_factors['AG', 'TCB2'][indexes_to_keep], 'group': df_factors['group', 'no'][indexes_to_keep]}\n",
    "            \n",
    "\n",
    "\n",
    "\n",
    "getSingleHistogram(filename, 'dose_response', '5HT', 'CC', 0.05, from_scratch = False)\n",
    "\n",
    "# buildSingleHistogram(filename, 'dose_response', '5HT', 'CC', 0.05)"
   ]
  },
  {
   "attachments": {},
   "cell_type": "markdown",
   "metadata": {},
   "source": [
    "QUALITATIVE ANALYSIS - CORRELATIONS\n",
    "\n",
    "    clasical_corellogram     :      getAndPlotSingleCorrelogram(filename, experiment='agonist_antagonist', correlogram_type='compound',                 \n",
    "                                                                to_correlate='GLU', p_value_threshold=0.05, n_minimum=5, from_scratch= True) \n",
    "                       \n",
    "    \n",
    "    square_correlogram       :      getAndPlotSingleCorrelogram(filename, experiment='agonist_antagonist', correlogram_type='compound', \n",
    "                                                                to_correlate='GLU-GABA', p_value_threshold=0.05, n_minimum=5, from_scratch= True) \n",
    "\n",
    "\n",
    "    bar_corellogram\n",
    "                                                    #see whatsapp image 3/5/23\n",
    "        within BR       /       within compound\n",
    "\n"
   ]
  },
  {
   "cell_type": "code",
   "execution_count": null,
   "metadata": {},
   "outputs": [],
   "source": [
    "\n",
    "#build bar corr\n",
    "#from_scratch = not working in getAndPlotMultipleCorrelograms()\n",
    "#how can i get access to the file name or the .svg !?!?\n",
    "\n",
    "### CORRELOGRAMS ###\n",
    "# use case:\n",
    "# getAndPlotMultipleCorrelograms(filename, {'compound':['DA', 'NA', '5HT-DA'], 'region':['CC','CC-IC'], 'experiment': 'dose_response'}, p_value_threshold=0.05, n_minimum=5, from_scratch=True)\n",
    "# getAndPlotSingleCorrelogram(filename, p_value_threshold=0.05, n_minimum=5) #This is the user friendly version with prompt\n",
    "# getAndPlotSingleCorrelogram(filename, experiment='dose_response', correlogram_type='compound', to_correlate='DA', p_value_threshold=0.05, n_minimum=5) #This is to save time and skip the prompt\n",
    "# getAndPlotSingleCorrelogram(filename, experiment='agonist_antagonist', correlogram_type='compound', to_correlate='GLU-GABA', p_value_threshold=0.05, n_minimum=5, from_scratch= True) #This is to save time and skip the prompt\n",
    "\n",
    "\n",
    "getAndPlotSingleCorrelogram(filename, experiment='agonist_antagonist', correlogram_type='compound', to_correlate='5HT', \n",
    "                            columns = ['OF', 'PL', 'CC', 'IC', 'M', 'SJ', 'SL1', 'SR1',  'AC', 'V' , 'Am', 'dH', 'vH', \n",
    "                                       'NAc', 'VM', 'DM', 'VL', 'DL', 'MD', 'VPL', 'VPR', 'DG', 'Y', 'SC', 'SN', 'VTA', \n",
    "                                       'DR', 'MR', 'CE' ], p_value_threshold=0.05, n_minimum=5, from_scratch=True) #This is to save time and skip the prompt\n",
    "\n",
    "getAndPlotSingleCorrelogram(filename, experiment='agonist_antagonist', correlogram_type='compound', to_correlate='GLU', \n",
    "                            columns = ['OF', 'PL', 'CC', 'IC', 'M', 'SJ', 'SL1', 'SR1',  'AC', 'V' , 'Am', 'dH', 'vH', \n",
    "                                       'NAc', 'VM', 'DM', 'VL', 'DL', 'MD', 'VPL', 'VPR', 'DG', 'Y', 'SC', 'SN', 'VTA', \n",
    "                                       'DR', 'MR', 'CE' ], p_value_threshold=0.05, n_minimum=5, from_scratch=True) #This is to save time and skip the prompt\n",
    "\n",
    "getAndPlotSingleCorrelogram(filename, experiment='agonist_antagonist', correlogram_type='compound', to_correlate='GABA', \n",
    "                            columns = ['OF', 'PL', 'CC', 'IC', 'M', 'SJ', 'SL1', 'SR1',  'AC', 'V' , 'Am', 'dH', 'vH', \n",
    "                                       'NAc', 'VM', 'DM', 'VL', 'DL', 'MD', 'VPL', 'VPR', 'DG', 'Y', 'SC', 'SN', 'VTA', \n",
    "                                       'DR', 'MR', 'CE' ], p_value_threshold=0.05, n_minimum=5, from_scratch=True) #This is to save time and skip the prompt\n"
   ]
  }
 ],
 "metadata": {
  "kernelspec": {
   "display_name": ".venv",
   "language": "python",
   "name": "python3"
  },
  "language_info": {
   "codemirror_mode": {
    "name": "ipython",
    "version": 3
   },
   "file_extension": ".py",
   "mimetype": "text/x-python",
   "name": "python",
   "nbconvert_exporter": "python",
   "pygments_lexer": "ipython3",
   "version": "3.8.0"
  },
  "orig_nbformat": 4
 },
 "nbformat": 4,
 "nbformat_minor": 2
}
